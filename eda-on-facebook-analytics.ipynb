{
 "cells": [
  {
   "cell_type": "markdown",
   "id": "6624934d",
   "metadata": {
    "papermill": {
     "duration": 0.014656,
     "end_time": "2023-04-29T03:28:57.259514",
     "exception": false,
     "start_time": "2023-04-29T03:28:57.244858",
     "status": "completed"
    },
    "tags": []
   },
   "source": [
    "# EDA on Facebook Analytics"
   ]
  },
  {
   "cell_type": "markdown",
   "id": "d93eb00f",
   "metadata": {
    "papermill": {
     "duration": 0.012778,
     "end_time": "2023-04-29T03:28:57.286085",
     "exception": false,
     "start_time": "2023-04-29T03:28:57.273307",
     "status": "completed"
    },
    "tags": []
   },
   "source": [
    "**Objective :**"
   ]
  },
  {
   "cell_type": "markdown",
   "id": "c1b63c5c",
   "metadata": {
    "papermill": {
     "duration": 0.012944,
     "end_time": "2023-04-29T03:28:57.312159",
     "exception": false,
     "start_time": "2023-04-29T03:28:57.299215",
     "status": "completed"
    },
    "tags": []
   },
   "source": [
    "Identifing certain patterns with respect to how the users are making use of this most popular social networking app depending on their age group,gender etc."
   ]
  },
  {
   "cell_type": "markdown",
   "id": "691669cb",
   "metadata": {
    "papermill": {
     "duration": 0.012641,
     "end_time": "2023-04-29T03:28:57.339195",
     "exception": false,
     "start_time": "2023-04-29T03:28:57.326554",
     "status": "completed"
    },
    "tags": []
   },
   "source": [
    "**Data Source :**"
   ]
  },
  {
   "cell_type": "markdown",
   "id": "91556191",
   "metadata": {
    "papermill": {
     "duration": 0.012808,
     "end_time": "2023-04-29T03:28:57.364342",
     "exception": false,
     "start_time": "2023-04-29T03:28:57.351534",
     "status": "completed"
    },
    "tags": []
   },
   "source": [
    "This exploratory data analysis gives insights from Facebook dataset which consists of identifying users that can be focused more to increase the business. These valuable insights should help Facebook to take intelligent decision to identify its useful users and provide correct recommendations to them."
   ]
  },
  {
   "cell_type": "markdown",
   "id": "e0912dd3",
   "metadata": {
    "papermill": {
     "duration": 0.012826,
     "end_time": "2023-04-29T03:28:57.390324",
     "exception": false,
     "start_time": "2023-04-29T03:28:57.377498",
     "status": "completed"
    },
    "tags": []
   },
   "source": [
    "**Work Flow :**"
   ]
  },
  {
   "cell_type": "markdown",
   "id": "7c794c97",
   "metadata": {
    "papermill": {
     "duration": 0.013357,
     "end_time": "2023-04-29T03:28:57.416771",
     "exception": false,
     "start_time": "2023-04-29T03:28:57.403414",
     "status": "completed"
    },
    "tags": []
   },
   "source": [
    "1. Data Extraction\n",
    "2. Data Profiling\n",
    "3. Exploratory Data Analysis\n",
    "4. Analysis of Relation between Variables\n",
    "5. Correlation of Features\n",
    "6. Conclusions"
   ]
  },
  {
   "cell_type": "code",
   "execution_count": 1,
   "id": "b30296a1",
   "metadata": {
    "execution": {
     "iopub.execute_input": "2023-04-29T03:28:57.445249Z",
     "iopub.status.busy": "2023-04-29T03:28:57.444852Z",
     "iopub.status.idle": "2023-04-29T03:28:58.560649Z",
     "shell.execute_reply": "2023-04-29T03:28:58.559690Z"
    },
    "papermill": {
     "duration": 1.133076,
     "end_time": "2023-04-29T03:28:58.563224",
     "exception": false,
     "start_time": "2023-04-29T03:28:57.430148",
     "status": "completed"
    },
    "tags": []
   },
   "outputs": [],
   "source": [
    "# Import necessary libraries\n",
    "import numpy as np\n",
    "import pandas as pd\n",
    "import seaborn as sns\n",
    "import matplotlib.pyplot as plt\n",
    "%matplotlib inline"
   ]
  },
  {
   "cell_type": "markdown",
   "id": "f40fcae0",
   "metadata": {
    "papermill": {
     "duration": 0.012823,
     "end_time": "2023-04-29T03:28:58.589333",
     "exception": false,
     "start_time": "2023-04-29T03:28:58.576510",
     "status": "completed"
    },
    "tags": []
   },
   "source": [
    "# 1. Data Extraction"
   ]
  },
  {
   "cell_type": "code",
   "execution_count": 2,
   "id": "1644664b",
   "metadata": {
    "execution": {
     "iopub.execute_input": "2023-04-29T03:28:58.618126Z",
     "iopub.status.busy": "2023-04-29T03:28:58.617510Z",
     "iopub.status.idle": "2023-04-29T03:28:58.724229Z",
     "shell.execute_reply": "2023-04-29T03:28:58.722400Z"
    },
    "papermill": {
     "duration": 0.123976,
     "end_time": "2023-04-29T03:28:58.726561",
     "exception": true,
     "start_time": "2023-04-29T03:28:58.602585",
     "status": "failed"
    },
    "tags": []
   },
   "outputs": [
    {
     "ename": "FileNotFoundError",
     "evalue": "[Errno 2] No such file or directory: 'facebook.csv'",
     "output_type": "error",
     "traceback": [
      "\u001b[0;31m---------------------------------------------------------------------------\u001b[0m",
      "\u001b[0;31mFileNotFoundError\u001b[0m                         Traceback (most recent call last)",
      "\u001b[0;32m/tmp/ipykernel_19/1058314552.py\u001b[0m in \u001b[0;36m<module>\u001b[0;34m\u001b[0m\n\u001b[0;32m----> 1\u001b[0;31m \u001b[0mfb_df\u001b[0m \u001b[0;34m=\u001b[0m \u001b[0mpd\u001b[0m\u001b[0;34m.\u001b[0m\u001b[0mread_csv\u001b[0m\u001b[0;34m(\u001b[0m\u001b[0;34m\"facebook.csv\"\u001b[0m\u001b[0;34m)\u001b[0m\u001b[0;34m\u001b[0m\u001b[0;34m\u001b[0m\u001b[0m\n\u001b[0m\u001b[1;32m      2\u001b[0m \u001b[0mfb_df\u001b[0m\u001b[0;34m.\u001b[0m\u001b[0mhead\u001b[0m\u001b[0;34m(\u001b[0m\u001b[0;34m)\u001b[0m\u001b[0;34m\u001b[0m\u001b[0;34m\u001b[0m\u001b[0m\n",
      "\u001b[0;32m/opt/conda/lib/python3.7/site-packages/pandas/util/_decorators.py\u001b[0m in \u001b[0;36mwrapper\u001b[0;34m(*args, **kwargs)\u001b[0m\n\u001b[1;32m    309\u001b[0m                     \u001b[0mstacklevel\u001b[0m\u001b[0;34m=\u001b[0m\u001b[0mstacklevel\u001b[0m\u001b[0;34m,\u001b[0m\u001b[0;34m\u001b[0m\u001b[0;34m\u001b[0m\u001b[0m\n\u001b[1;32m    310\u001b[0m                 )\n\u001b[0;32m--> 311\u001b[0;31m             \u001b[0;32mreturn\u001b[0m \u001b[0mfunc\u001b[0m\u001b[0;34m(\u001b[0m\u001b[0;34m*\u001b[0m\u001b[0margs\u001b[0m\u001b[0;34m,\u001b[0m \u001b[0;34m**\u001b[0m\u001b[0mkwargs\u001b[0m\u001b[0;34m)\u001b[0m\u001b[0;34m\u001b[0m\u001b[0;34m\u001b[0m\u001b[0m\n\u001b[0m\u001b[1;32m    312\u001b[0m \u001b[0;34m\u001b[0m\u001b[0m\n\u001b[1;32m    313\u001b[0m         \u001b[0;32mreturn\u001b[0m \u001b[0mwrapper\u001b[0m\u001b[0;34m\u001b[0m\u001b[0;34m\u001b[0m\u001b[0m\n",
      "\u001b[0;32m/opt/conda/lib/python3.7/site-packages/pandas/io/parsers/readers.py\u001b[0m in \u001b[0;36mread_csv\u001b[0;34m(filepath_or_buffer, sep, delimiter, header, names, index_col, usecols, squeeze, prefix, mangle_dupe_cols, dtype, engine, converters, true_values, false_values, skipinitialspace, skiprows, skipfooter, nrows, na_values, keep_default_na, na_filter, verbose, skip_blank_lines, parse_dates, infer_datetime_format, keep_date_col, date_parser, dayfirst, cache_dates, iterator, chunksize, compression, thousands, decimal, lineterminator, quotechar, quoting, doublequote, escapechar, comment, encoding, encoding_errors, dialect, error_bad_lines, warn_bad_lines, on_bad_lines, delim_whitespace, low_memory, memory_map, float_precision, storage_options)\u001b[0m\n\u001b[1;32m    584\u001b[0m     \u001b[0mkwds\u001b[0m\u001b[0;34m.\u001b[0m\u001b[0mupdate\u001b[0m\u001b[0;34m(\u001b[0m\u001b[0mkwds_defaults\u001b[0m\u001b[0;34m)\u001b[0m\u001b[0;34m\u001b[0m\u001b[0;34m\u001b[0m\u001b[0m\n\u001b[1;32m    585\u001b[0m \u001b[0;34m\u001b[0m\u001b[0m\n\u001b[0;32m--> 586\u001b[0;31m     \u001b[0;32mreturn\u001b[0m \u001b[0m_read\u001b[0m\u001b[0;34m(\u001b[0m\u001b[0mfilepath_or_buffer\u001b[0m\u001b[0;34m,\u001b[0m \u001b[0mkwds\u001b[0m\u001b[0;34m)\u001b[0m\u001b[0;34m\u001b[0m\u001b[0;34m\u001b[0m\u001b[0m\n\u001b[0m\u001b[1;32m    587\u001b[0m \u001b[0;34m\u001b[0m\u001b[0m\n\u001b[1;32m    588\u001b[0m \u001b[0;34m\u001b[0m\u001b[0m\n",
      "\u001b[0;32m/opt/conda/lib/python3.7/site-packages/pandas/io/parsers/readers.py\u001b[0m in \u001b[0;36m_read\u001b[0;34m(filepath_or_buffer, kwds)\u001b[0m\n\u001b[1;32m    480\u001b[0m \u001b[0;34m\u001b[0m\u001b[0m\n\u001b[1;32m    481\u001b[0m     \u001b[0;31m# Create the parser.\u001b[0m\u001b[0;34m\u001b[0m\u001b[0;34m\u001b[0m\u001b[0;34m\u001b[0m\u001b[0m\n\u001b[0;32m--> 482\u001b[0;31m     \u001b[0mparser\u001b[0m \u001b[0;34m=\u001b[0m \u001b[0mTextFileReader\u001b[0m\u001b[0;34m(\u001b[0m\u001b[0mfilepath_or_buffer\u001b[0m\u001b[0;34m,\u001b[0m \u001b[0;34m**\u001b[0m\u001b[0mkwds\u001b[0m\u001b[0;34m)\u001b[0m\u001b[0;34m\u001b[0m\u001b[0;34m\u001b[0m\u001b[0m\n\u001b[0m\u001b[1;32m    483\u001b[0m \u001b[0;34m\u001b[0m\u001b[0m\n\u001b[1;32m    484\u001b[0m     \u001b[0;32mif\u001b[0m \u001b[0mchunksize\u001b[0m \u001b[0;32mor\u001b[0m \u001b[0miterator\u001b[0m\u001b[0;34m:\u001b[0m\u001b[0;34m\u001b[0m\u001b[0;34m\u001b[0m\u001b[0m\n",
      "\u001b[0;32m/opt/conda/lib/python3.7/site-packages/pandas/io/parsers/readers.py\u001b[0m in \u001b[0;36m__init__\u001b[0;34m(self, f, engine, **kwds)\u001b[0m\n\u001b[1;32m    809\u001b[0m             \u001b[0mself\u001b[0m\u001b[0;34m.\u001b[0m\u001b[0moptions\u001b[0m\u001b[0;34m[\u001b[0m\u001b[0;34m\"has_index_names\"\u001b[0m\u001b[0;34m]\u001b[0m \u001b[0;34m=\u001b[0m \u001b[0mkwds\u001b[0m\u001b[0;34m[\u001b[0m\u001b[0;34m\"has_index_names\"\u001b[0m\u001b[0;34m]\u001b[0m\u001b[0;34m\u001b[0m\u001b[0;34m\u001b[0m\u001b[0m\n\u001b[1;32m    810\u001b[0m \u001b[0;34m\u001b[0m\u001b[0m\n\u001b[0;32m--> 811\u001b[0;31m         \u001b[0mself\u001b[0m\u001b[0;34m.\u001b[0m\u001b[0m_engine\u001b[0m \u001b[0;34m=\u001b[0m \u001b[0mself\u001b[0m\u001b[0;34m.\u001b[0m\u001b[0m_make_engine\u001b[0m\u001b[0;34m(\u001b[0m\u001b[0mself\u001b[0m\u001b[0;34m.\u001b[0m\u001b[0mengine\u001b[0m\u001b[0;34m)\u001b[0m\u001b[0;34m\u001b[0m\u001b[0;34m\u001b[0m\u001b[0m\n\u001b[0m\u001b[1;32m    812\u001b[0m \u001b[0;34m\u001b[0m\u001b[0m\n\u001b[1;32m    813\u001b[0m     \u001b[0;32mdef\u001b[0m \u001b[0mclose\u001b[0m\u001b[0;34m(\u001b[0m\u001b[0mself\u001b[0m\u001b[0;34m)\u001b[0m\u001b[0;34m:\u001b[0m\u001b[0;34m\u001b[0m\u001b[0;34m\u001b[0m\u001b[0m\n",
      "\u001b[0;32m/opt/conda/lib/python3.7/site-packages/pandas/io/parsers/readers.py\u001b[0m in \u001b[0;36m_make_engine\u001b[0;34m(self, engine)\u001b[0m\n\u001b[1;32m   1038\u001b[0m             )\n\u001b[1;32m   1039\u001b[0m         \u001b[0;31m# error: Too many arguments for \"ParserBase\"\u001b[0m\u001b[0;34m\u001b[0m\u001b[0;34m\u001b[0m\u001b[0;34m\u001b[0m\u001b[0m\n\u001b[0;32m-> 1040\u001b[0;31m         \u001b[0;32mreturn\u001b[0m \u001b[0mmapping\u001b[0m\u001b[0;34m[\u001b[0m\u001b[0mengine\u001b[0m\u001b[0;34m]\u001b[0m\u001b[0;34m(\u001b[0m\u001b[0mself\u001b[0m\u001b[0;34m.\u001b[0m\u001b[0mf\u001b[0m\u001b[0;34m,\u001b[0m \u001b[0;34m**\u001b[0m\u001b[0mself\u001b[0m\u001b[0;34m.\u001b[0m\u001b[0moptions\u001b[0m\u001b[0;34m)\u001b[0m  \u001b[0;31m# type: ignore[call-arg]\u001b[0m\u001b[0;34m\u001b[0m\u001b[0;34m\u001b[0m\u001b[0m\n\u001b[0m\u001b[1;32m   1041\u001b[0m \u001b[0;34m\u001b[0m\u001b[0m\n\u001b[1;32m   1042\u001b[0m     \u001b[0;32mdef\u001b[0m \u001b[0m_failover_to_python\u001b[0m\u001b[0;34m(\u001b[0m\u001b[0mself\u001b[0m\u001b[0;34m)\u001b[0m\u001b[0;34m:\u001b[0m\u001b[0;34m\u001b[0m\u001b[0;34m\u001b[0m\u001b[0m\n",
      "\u001b[0;32m/opt/conda/lib/python3.7/site-packages/pandas/io/parsers/c_parser_wrapper.py\u001b[0m in \u001b[0;36m__init__\u001b[0;34m(self, src, **kwds)\u001b[0m\n\u001b[1;32m     49\u001b[0m \u001b[0;34m\u001b[0m\u001b[0m\n\u001b[1;32m     50\u001b[0m         \u001b[0;31m# open handles\u001b[0m\u001b[0;34m\u001b[0m\u001b[0;34m\u001b[0m\u001b[0;34m\u001b[0m\u001b[0m\n\u001b[0;32m---> 51\u001b[0;31m         \u001b[0mself\u001b[0m\u001b[0;34m.\u001b[0m\u001b[0m_open_handles\u001b[0m\u001b[0;34m(\u001b[0m\u001b[0msrc\u001b[0m\u001b[0;34m,\u001b[0m \u001b[0mkwds\u001b[0m\u001b[0;34m)\u001b[0m\u001b[0;34m\u001b[0m\u001b[0;34m\u001b[0m\u001b[0m\n\u001b[0m\u001b[1;32m     52\u001b[0m         \u001b[0;32massert\u001b[0m \u001b[0mself\u001b[0m\u001b[0;34m.\u001b[0m\u001b[0mhandles\u001b[0m \u001b[0;32mis\u001b[0m \u001b[0;32mnot\u001b[0m \u001b[0;32mNone\u001b[0m\u001b[0;34m\u001b[0m\u001b[0;34m\u001b[0m\u001b[0m\n\u001b[1;32m     53\u001b[0m \u001b[0;34m\u001b[0m\u001b[0m\n",
      "\u001b[0;32m/opt/conda/lib/python3.7/site-packages/pandas/io/parsers/base_parser.py\u001b[0m in \u001b[0;36m_open_handles\u001b[0;34m(self, src, kwds)\u001b[0m\n\u001b[1;32m    227\u001b[0m             \u001b[0mmemory_map\u001b[0m\u001b[0;34m=\u001b[0m\u001b[0mkwds\u001b[0m\u001b[0;34m.\u001b[0m\u001b[0mget\u001b[0m\u001b[0;34m(\u001b[0m\u001b[0;34m\"memory_map\"\u001b[0m\u001b[0;34m,\u001b[0m \u001b[0;32mFalse\u001b[0m\u001b[0;34m)\u001b[0m\u001b[0;34m,\u001b[0m\u001b[0;34m\u001b[0m\u001b[0;34m\u001b[0m\u001b[0m\n\u001b[1;32m    228\u001b[0m             \u001b[0mstorage_options\u001b[0m\u001b[0;34m=\u001b[0m\u001b[0mkwds\u001b[0m\u001b[0;34m.\u001b[0m\u001b[0mget\u001b[0m\u001b[0;34m(\u001b[0m\u001b[0;34m\"storage_options\"\u001b[0m\u001b[0;34m,\u001b[0m \u001b[0;32mNone\u001b[0m\u001b[0;34m)\u001b[0m\u001b[0;34m,\u001b[0m\u001b[0;34m\u001b[0m\u001b[0;34m\u001b[0m\u001b[0m\n\u001b[0;32m--> 229\u001b[0;31m             \u001b[0merrors\u001b[0m\u001b[0;34m=\u001b[0m\u001b[0mkwds\u001b[0m\u001b[0;34m.\u001b[0m\u001b[0mget\u001b[0m\u001b[0;34m(\u001b[0m\u001b[0;34m\"encoding_errors\"\u001b[0m\u001b[0;34m,\u001b[0m \u001b[0;34m\"strict\"\u001b[0m\u001b[0;34m)\u001b[0m\u001b[0;34m,\u001b[0m\u001b[0;34m\u001b[0m\u001b[0;34m\u001b[0m\u001b[0m\n\u001b[0m\u001b[1;32m    230\u001b[0m         )\n\u001b[1;32m    231\u001b[0m \u001b[0;34m\u001b[0m\u001b[0m\n",
      "\u001b[0;32m/opt/conda/lib/python3.7/site-packages/pandas/io/common.py\u001b[0m in \u001b[0;36mget_handle\u001b[0;34m(path_or_buf, mode, encoding, compression, memory_map, is_text, errors, storage_options)\u001b[0m\n\u001b[1;32m    705\u001b[0m                 \u001b[0mencoding\u001b[0m\u001b[0;34m=\u001b[0m\u001b[0mioargs\u001b[0m\u001b[0;34m.\u001b[0m\u001b[0mencoding\u001b[0m\u001b[0;34m,\u001b[0m\u001b[0;34m\u001b[0m\u001b[0;34m\u001b[0m\u001b[0m\n\u001b[1;32m    706\u001b[0m                 \u001b[0merrors\u001b[0m\u001b[0;34m=\u001b[0m\u001b[0merrors\u001b[0m\u001b[0;34m,\u001b[0m\u001b[0;34m\u001b[0m\u001b[0;34m\u001b[0m\u001b[0m\n\u001b[0;32m--> 707\u001b[0;31m                 \u001b[0mnewline\u001b[0m\u001b[0;34m=\u001b[0m\u001b[0;34m\"\"\u001b[0m\u001b[0;34m,\u001b[0m\u001b[0;34m\u001b[0m\u001b[0;34m\u001b[0m\u001b[0m\n\u001b[0m\u001b[1;32m    708\u001b[0m             )\n\u001b[1;32m    709\u001b[0m         \u001b[0;32melse\u001b[0m\u001b[0;34m:\u001b[0m\u001b[0;34m\u001b[0m\u001b[0;34m\u001b[0m\u001b[0m\n",
      "\u001b[0;31mFileNotFoundError\u001b[0m: [Errno 2] No such file or directory: 'facebook.csv'"
     ]
    }
   ],
   "source": [
    "fb_df = pd.read_csv(\"facebook.csv\")\n",
    "fb_df.head()"
   ]
  },
  {
   "cell_type": "markdown",
   "id": "6dcc9bf8",
   "metadata": {
    "papermill": {
     "duration": null,
     "end_time": null,
     "exception": null,
     "start_time": null,
     "status": "pending"
    },
    "tags": []
   },
   "source": [
    "# 2. Data Profiling"
   ]
  },
  {
   "cell_type": "code",
   "execution_count": null,
   "id": "e471e700",
   "metadata": {
    "papermill": {
     "duration": null,
     "end_time": null,
     "exception": null,
     "start_time": null,
     "status": "pending"
    },
    "tags": []
   },
   "outputs": [],
   "source": [
    "fb_df.info()"
   ]
  },
  {
   "cell_type": "markdown",
   "id": "136c70a9",
   "metadata": {
    "papermill": {
     "duration": null,
     "end_time": null,
     "exception": null,
     "start_time": null,
     "status": "pending"
    },
    "tags": []
   },
   "source": [
    "1. There are a total of 99003 samples (rows) and 15 columns in the dataframe.\n",
    "\n",
    "2. There are 13 columns with a numeric datatype.\n",
    "\n",
    "3. There is a float and Category column each.\n",
    "\n",
    "4. There are missing values in the data."
   ]
  },
  {
   "cell_type": "code",
   "execution_count": null,
   "id": "013dbb1a",
   "metadata": {
    "papermill": {
     "duration": null,
     "end_time": null,
     "exception": null,
     "start_time": null,
     "status": "pending"
    },
    "tags": []
   },
   "outputs": [],
   "source": [
    "fb_df.describe(include='all')"
   ]
  },
  {
   "cell_type": "markdown",
   "id": "3f54abc2",
   "metadata": {
    "papermill": {
     "duration": null,
     "end_time": null,
     "exception": null,
     "start_time": null,
     "status": "pending"
    },
    "tags": []
   },
   "source": [
    "**Pre Profiling**"
   ]
  },
  {
   "cell_type": "code",
   "execution_count": null,
   "id": "bbbbbdf9",
   "metadata": {
    "papermill": {
     "duration": null,
     "end_time": null,
     "exception": null,
     "start_time": null,
     "status": "pending"
    },
    "tags": []
   },
   "outputs": [],
   "source": [
    "import pandas_profiling\n",
    "                                      \n",
    "profile = fb_df.profile_report(title = 'Pre Profile Facebook Dataset')\n",
    "profile.to_file(output_file='Pre Profile Facebook Data Analysis before Processing.html')\n",
    "        "
   ]
  },
  {
   "cell_type": "markdown",
   "id": "a6f408ed",
   "metadata": {
    "papermill": {
     "duration": null,
     "end_time": null,
     "exception": null,
     "start_time": null,
     "status": "pending"
    },
    "tags": []
   },
   "source": [
    "**Dataset info:**\n",
    "\n",
    "Number of variables:15\n",
    "\n",
    "Number of observations: 99003\n",
    "\n",
    "Missing cells: <0.1%\n",
    "\n",
    "Variables types:\n",
    "\n",
    "Numeric = 14\n",
    "\n",
    "Categorical = 1\n",
    "\n",
    "Dataset has 175 (0.2%) Missing Value in gender column and 2 in tenure column\n",
    "\n",
    "There are Zeros in the following Columns\n",
    "\n",
    "1. friend_count\n",
    "2. friendships_initiated\n",
    "3. likes\n",
    "4. likes_received\n",
    "5. mobile_likes\n",
    "6. mobile_likes_received\n",
    "7. www_likes\n",
    "8. www_likes_received"
   ]
  },
  {
   "cell_type": "markdown",
   "id": "b434f063",
   "metadata": {
    "papermill": {
     "duration": null,
     "end_time": null,
     "exception": null,
     "start_time": null,
     "status": "pending"
    },
    "tags": []
   },
   "source": [
    "**Preprocessing**\n",
    "\n",
    "Dealing with missing values\n",
    "\n",
    "Dropping the column 'userid' as it has no value add to the analyse.\n",
    "\n",
    "Replacing missing values of gender with mode values.\n",
    "\n",
    "Replacing missing values of tenure with median values."
   ]
  },
  {
   "cell_type": "code",
   "execution_count": null,
   "id": "2973ee5d",
   "metadata": {
    "papermill": {
     "duration": null,
     "end_time": null,
     "exception": null,
     "start_time": null,
     "status": "pending"
    },
    "tags": []
   },
   "outputs": [],
   "source": [
    "fb_df.drop('userid',axis=1,inplace=True)"
   ]
  },
  {
   "cell_type": "code",
   "execution_count": null,
   "id": "6a540a3e",
   "metadata": {
    "papermill": {
     "duration": null,
     "end_time": null,
     "exception": null,
     "start_time": null,
     "status": "pending"
    },
    "tags": []
   },
   "outputs": [],
   "source": [
    "fb_df['gender'].mode()"
   ]
  },
  {
   "cell_type": "code",
   "execution_count": null,
   "id": "bf384a7c",
   "metadata": {
    "papermill": {
     "duration": null,
     "end_time": null,
     "exception": null,
     "start_time": null,
     "status": "pending"
    },
    "tags": []
   },
   "outputs": [],
   "source": [
    "fb_df['gender'] = fb_df['gender'].replace(np.NaN,'male')"
   ]
  },
  {
   "cell_type": "code",
   "execution_count": null,
   "id": "0abe334f",
   "metadata": {
    "papermill": {
     "duration": null,
     "end_time": null,
     "exception": null,
     "start_time": null,
     "status": "pending"
    },
    "tags": []
   },
   "outputs": [],
   "source": [
    "fb_df['gender'].unique()"
   ]
  },
  {
   "cell_type": "code",
   "execution_count": null,
   "id": "3dce7a26",
   "metadata": {
    "papermill": {
     "duration": null,
     "end_time": null,
     "exception": null,
     "start_time": null,
     "status": "pending"
    },
    "tags": []
   },
   "outputs": [],
   "source": [
    "fb_df['tenure'].median()"
   ]
  },
  {
   "cell_type": "code",
   "execution_count": null,
   "id": "d852c2e1",
   "metadata": {
    "papermill": {
     "duration": null,
     "end_time": null,
     "exception": null,
     "start_time": null,
     "status": "pending"
    },
    "tags": []
   },
   "outputs": [],
   "source": [
    "fb_df['tenure'] = fb_df['tenure'].replace(np.NaN,412.0)\n"
   ]
  },
  {
   "cell_type": "code",
   "execution_count": null,
   "id": "1b5824a2",
   "metadata": {
    "papermill": {
     "duration": null,
     "end_time": null,
     "exception": null,
     "start_time": null,
     "status": "pending"
    },
    "tags": []
   },
   "outputs": [],
   "source": [
    "fb_df.isnull().sum().sort_values(ascending = False)"
   ]
  },
  {
   "cell_type": "markdown",
   "id": "716bcb42",
   "metadata": {
    "papermill": {
     "duration": null,
     "end_time": null,
     "exception": null,
     "start_time": null,
     "status": "pending"
    },
    "tags": []
   },
   "source": [
    "Creating date_of_birth column using these variables: dob_year , dob_month , and dob_day"
   ]
  },
  {
   "cell_type": "code",
   "execution_count": null,
   "id": "07058839",
   "metadata": {
    "papermill": {
     "duration": null,
     "end_time": null,
     "exception": null,
     "start_time": null,
     "status": "pending"
    },
    "tags": []
   },
   "outputs": [],
   "source": [
    "fb_df.insert(1,\"date_of_birth\",pd.to_datetime(fb_df.dob_year*10000+fb_df.dob_month*100+fb_df.dob_day,format='%Y%m%d'))"
   ]
  },
  {
   "cell_type": "code",
   "execution_count": null,
   "id": "e6180556",
   "metadata": {
    "papermill": {
     "duration": null,
     "end_time": null,
     "exception": null,
     "start_time": null,
     "status": "pending"
    },
    "tags": []
   },
   "outputs": [],
   "source": [
    "fb_df.head()"
   ]
  },
  {
   "cell_type": "code",
   "execution_count": null,
   "id": "e03eba03",
   "metadata": {
    "papermill": {
     "duration": null,
     "end_time": null,
     "exception": null,
     "start_time": null,
     "status": "pending"
    },
    "tags": []
   },
   "outputs": [],
   "source": [
    "fb_df.info()"
   ]
  },
  {
   "cell_type": "code",
   "execution_count": null,
   "id": "49c6fd53",
   "metadata": {
    "papermill": {
     "duration": null,
     "end_time": null,
     "exception": null,
     "start_time": null,
     "status": "pending"
    },
    "tags": []
   },
   "outputs": [],
   "source": [
    "fb_df.describe(include = 'all')"
   ]
  },
  {
   "cell_type": "markdown",
   "id": "6ac799ec",
   "metadata": {
    "papermill": {
     "duration": null,
     "end_time": null,
     "exception": null,
     "start_time": null,
     "status": "pending"
    },
    "tags": []
   },
   "source": [
    "**Post Profiling**"
   ]
  },
  {
   "cell_type": "code",
   "execution_count": null,
   "id": "854ceac9",
   "metadata": {
    "papermill": {
     "duration": null,
     "end_time": null,
     "exception": null,
     "start_time": null,
     "status": "pending"
    },
    "tags": []
   },
   "outputs": [],
   "source": [
    "profile = fb_df.profile_report(title = 'Post Profile Facebook Dataset')\n",
    "profile.to_file(output_file='Post Profile Facebook Data Analysis after Processing.html')"
   ]
  },
  {
   "cell_type": "markdown",
   "id": "7f620b1e",
   "metadata": {
    "papermill": {
     "duration": null,
     "end_time": null,
     "exception": null,
     "start_time": null,
     "status": "pending"
    },
    "tags": []
   },
   "source": [
    "observations:\n",
    "\n",
    "In the Dataset info, Total Missing(%) = 0.0%\n",
    "\n",
    "Number of variables = 15\n",
    "\n",
    "Observe the newly created variable date_of_birth.\n",
    "\n",
    "Dataset has 8 (<0.1%) duplicate rows, needs to be removed from the datatset"
   ]
  },
  {
   "cell_type": "markdown",
   "id": "f00a154c",
   "metadata": {
    "papermill": {
     "duration": null,
     "end_time": null,
     "exception": null,
     "start_time": null,
     "status": "pending"
    },
    "tags": []
   },
   "source": [
    "**Post Processing**"
   ]
  },
  {
   "cell_type": "code",
   "execution_count": null,
   "id": "49de4f37",
   "metadata": {
    "papermill": {
     "duration": null,
     "end_time": null,
     "exception": null,
     "start_time": null,
     "status": "pending"
    },
    "tags": []
   },
   "outputs": [],
   "source": [
    "fb_df.drop_duplicates(inplace=True)"
   ]
  },
  {
   "cell_type": "code",
   "execution_count": null,
   "id": "324c7e74",
   "metadata": {
    "papermill": {
     "duration": null,
     "end_time": null,
     "exception": null,
     "start_time": null,
     "status": "pending"
    },
    "tags": []
   },
   "outputs": [],
   "source": [
    "fb_df.describe(include='all')"
   ]
  },
  {
   "cell_type": "markdown",
   "id": "691d39ee",
   "metadata": {
    "papermill": {
     "duration": null,
     "end_time": null,
     "exception": null,
     "start_time": null,
     "status": "pending"
    },
    "tags": []
   },
   "source": [
    "# 3. Exploratory Data Analysis"
   ]
  },
  {
   "cell_type": "markdown",
   "id": "b43892f2",
   "metadata": {
    "papermill": {
     "duration": null,
     "end_time": null,
     "exception": null,
     "start_time": null,
     "status": "pending"
    },
    "tags": []
   },
   "source": [
    "**Distrbution of age of users**"
   ]
  },
  {
   "cell_type": "code",
   "execution_count": null,
   "id": "ccf72a55",
   "metadata": {
    "papermill": {
     "duration": null,
     "end_time": null,
     "exception": null,
     "start_time": null,
     "status": "pending"
    },
    "tags": []
   },
   "outputs": [],
   "source": [
    "labels = ['12-14', '15-20','21-30','31-40','41-50', '51-60', '61-70', '71-80','81-90','91-100','101-110','111-120']\n",
    "fb_df['age_group'] = pd.cut(fb_df['age'],\n",
    "                         [10,15,20,30,40,50,60,70,80,90,100,110,120],\n",
    "                         labels= labels, include_lowest=True)"
   ]
  },
  {
   "cell_type": "code",
   "execution_count": null,
   "id": "3fc01b2d",
   "metadata": {
    "papermill": {
     "duration": null,
     "end_time": null,
     "exception": null,
     "start_time": null,
     "status": "pending"
    },
    "tags": []
   },
   "outputs": [],
   "source": [
    "sns.set_style('whitegrid')\n",
    "plt.figure(figsize=(10,5))\n",
    "sns.countplot(x='age_group',data=fb_df)"
   ]
  },
  {
   "cell_type": "code",
   "execution_count": null,
   "id": "76b2c55f",
   "metadata": {
    "papermill": {
     "duration": null,
     "end_time": null,
     "exception": null,
     "start_time": null,
     "status": "pending"
    },
    "tags": []
   },
   "outputs": [],
   "source": [
    "sns.set_style('whitegrid')\n",
    "plt.figure(figsize=(20,12))\n",
    "plt.xticks(rotation=45)\n",
    "sns.countplot(x='age',data=fb_df)"
   ]
  },
  {
   "cell_type": "code",
   "execution_count": null,
   "id": "3eed1655",
   "metadata": {
    "papermill": {
     "duration": null,
     "end_time": null,
     "exception": null,
     "start_time": null,
     "status": "pending"
    },
    "tags": []
   },
   "outputs": [],
   "source": [
    "fb_df.groupby(['age_group'])['age_group'].count()"
   ]
  },
  {
   "cell_type": "markdown",
   "id": "5f7b89dd",
   "metadata": {
    "papermill": {
     "duration": null,
     "end_time": null,
     "exception": null,
     "start_time": null,
     "status": "pending"
    },
    "tags": []
   },
   "source": [
    "Maximun users of Facebook are of Age 15 to 30 years.\n",
    "\n",
    "Maximum Age:113 years and Minimum Age:13 years"
   ]
  },
  {
   "cell_type": "markdown",
   "id": "a190d3b8",
   "metadata": {
    "papermill": {
     "duration": null,
     "end_time": null,
     "exception": null,
     "start_time": null,
     "status": "pending"
    },
    "tags": []
   },
   "source": [
    "**Gender wise Analysis**"
   ]
  },
  {
   "cell_type": "code",
   "execution_count": null,
   "id": "5084a827",
   "metadata": {
    "papermill": {
     "duration": null,
     "end_time": null,
     "exception": null,
     "start_time": null,
     "status": "pending"
    },
    "tags": []
   },
   "outputs": [],
   "source": [
    "fb_df['gender'].value_counts().plot(kind='pie',explode=[0.02,0.02],fontsize=14, autopct='%3.1f%%', \n",
    "                                               figsize=(10,10), shadow=True, startangle=135, legend=True, cmap='autumn')\n",
    "plt.title('Pie chart showing the Gender wise Facebook Users Status')"
   ]
  },
  {
   "cell_type": "markdown",
   "id": "6de446dd",
   "metadata": {
    "papermill": {
     "duration": null,
     "end_time": null,
     "exception": null,
     "start_time": null,
     "status": "pending"
    },
    "tags": []
   },
   "source": [
    "Maximum users of Facebook are Males about 59.3%."
   ]
  },
  {
   "cell_type": "markdown",
   "id": "5df83394",
   "metadata": {
    "papermill": {
     "duration": null,
     "end_time": null,
     "exception": null,
     "start_time": null,
     "status": "pending"
    },
    "tags": []
   },
   "source": [
    "**Analysis based on Tenure**"
   ]
  },
  {
   "cell_type": "code",
   "execution_count": null,
   "id": "1dbbbb7e",
   "metadata": {
    "papermill": {
     "duration": null,
     "end_time": null,
     "exception": null,
     "start_time": null,
     "status": "pending"
    },
    "tags": []
   },
   "outputs": [],
   "source": [
    "sns.set(color_codes=True)\n",
    "plt.figure(figsize=(20,12))\n",
    "sns.set_palette(sns.color_palette(\"Set1\", n_colors=5, desat=.5))\n",
    "sns.distplot(fb_df[\"tenure\"])"
   ]
  },
  {
   "cell_type": "markdown",
   "id": "12c5df48",
   "metadata": {
    "papermill": {
     "duration": null,
     "end_time": null,
     "exception": null,
     "start_time": null,
     "status": "pending"
    },
    "tags": []
   },
   "source": [
    " More number of User have joined from Last 2 Years of data collection."
   ]
  },
  {
   "cell_type": "markdown",
   "id": "f0ffc1b9",
   "metadata": {
    "papermill": {
     "duration": null,
     "end_time": null,
     "exception": null,
     "start_time": null,
     "status": "pending"
    },
    "tags": []
   },
   "source": [
    "**Friend Count Distribution**\n"
   ]
  },
  {
   "cell_type": "code",
   "execution_count": null,
   "id": "9af85b25",
   "metadata": {
    "papermill": {
     "duration": null,
     "end_time": null,
     "exception": null,
     "start_time": null,
     "status": "pending"
    },
    "tags": []
   },
   "outputs": [],
   "source": [
    "fb_df[\"friend_count\"].value_counts()"
   ]
  },
  {
   "cell_type": "code",
   "execution_count": null,
   "id": "73db3c25",
   "metadata": {
    "papermill": {
     "duration": null,
     "end_time": null,
     "exception": null,
     "start_time": null,
     "status": "pending"
    },
    "tags": []
   },
   "outputs": [],
   "source": [
    "Percentage_of_friend_count_nill = fb_df['friend_count'].value_counts().max() / (fb_df.friend_count.count())*100\n",
    "print('Percentage of Zero Friend Count = ', Percentage_of_friend_count_nill.round(decimals=2))"
   ]
  },
  {
   "cell_type": "code",
   "execution_count": null,
   "id": "ef525103",
   "metadata": {
    "papermill": {
     "duration": null,
     "end_time": null,
     "exception": null,
     "start_time": null,
     "status": "pending"
    },
    "tags": []
   },
   "outputs": [],
   "source": [
    "sns.set(color_codes=True)\n",
    "plt.figure(figsize=(18,9))\n",
    "sns.set_palette(sns.color_palette(\"muted\"))\n",
    "sns.set(font_scale=1.5)\n",
    "sns.distplot(fb_df[\"friend_count\"])"
   ]
  },
  {
   "cell_type": "markdown",
   "id": "f6460516",
   "metadata": {
    "papermill": {
     "duration": null,
     "end_time": null,
     "exception": null,
     "start_time": null,
     "status": "pending"
    },
    "tags": []
   },
   "source": [
    "more number of users have fewer than 500 Facebook Friends\n",
    "\n",
    "2% of users did not have any friends\n"
   ]
  },
  {
   "cell_type": "markdown",
   "id": "fabf1cea",
   "metadata": {
    "papermill": {
     "duration": null,
     "end_time": null,
     "exception": null,
     "start_time": null,
     "status": "pending"
    },
    "tags": []
   },
   "source": [
    "**Distribution of Friendships Initiated**\n"
   ]
  },
  {
   "cell_type": "code",
   "execution_count": null,
   "id": "a3526264",
   "metadata": {
    "papermill": {
     "duration": null,
     "end_time": null,
     "exception": null,
     "start_time": null,
     "status": "pending"
    },
    "tags": []
   },
   "outputs": [],
   "source": [
    "plt.figure(figsize=(18,9))\n",
    "sns.set_palette(sns.color_palette(\"deep\"))\n",
    "sns.set(font_scale=1.5)\n",
    "sns.distplot(fb_df[\"friendships_initiated\"])"
   ]
  },
  {
   "cell_type": "code",
   "execution_count": null,
   "id": "a8396855",
   "metadata": {
    "papermill": {
     "duration": null,
     "end_time": null,
     "exception": null,
     "start_time": null,
     "status": "pending"
    },
    "tags": []
   },
   "outputs": [],
   "source": [
    "fb_df['friendships_initiated'].value_counts()\n"
   ]
  },
  {
   "cell_type": "code",
   "execution_count": null,
   "id": "ae8f2af4",
   "metadata": {
    "papermill": {
     "duration": null,
     "end_time": null,
     "exception": null,
     "start_time": null,
     "status": "pending"
    },
    "tags": []
   },
   "outputs": [],
   "source": [
    "Percentage_of_friendships_Initiated_nill = fb_df['friendships_initiated'].value_counts().max() / (fb_df.friendships_initiated.count())*100\n",
    "print('Percentage of Zero Friend Count = ', Percentage_of_friendships_Initiated_nill.round(decimals=2))"
   ]
  },
  {
   "cell_type": "markdown",
   "id": "c59ec4f8",
   "metadata": {
    "papermill": {
     "duration": null,
     "end_time": null,
     "exception": null,
     "start_time": null,
     "status": "pending"
    },
    "tags": []
   },
   "source": [
    "3% of users were not initiated even a single friends"
   ]
  },
  {
   "cell_type": "markdown",
   "id": "e48779f6",
   "metadata": {
    "papermill": {
     "duration": null,
     "end_time": null,
     "exception": null,
     "start_time": null,
     "status": "pending"
    },
    "tags": []
   },
   "source": [
    "# 4. Analysis of Relation between Variables"
   ]
  },
  {
   "cell_type": "markdown",
   "id": "9be89c3a",
   "metadata": {
    "papermill": {
     "duration": null,
     "end_time": null,
     "exception": null,
     "start_time": null,
     "status": "pending"
    },
    "tags": []
   },
   "source": [
    "**Comparing Gender wise users in Age Group**\n"
   ]
  },
  {
   "cell_type": "code",
   "execution_count": null,
   "id": "27480815",
   "metadata": {
    "papermill": {
     "duration": null,
     "end_time": null,
     "exception": null,
     "start_time": null,
     "status": "pending"
    },
    "tags": []
   },
   "outputs": [],
   "source": [
    "fig,ax =plt.subplots(figsize=(12,9))\n",
    "sns.set(font_scale=1)\n",
    "sns.countplot(data = fb_df,x = 'age_group', hue='gender')\n",
    "plt.title('Age vs Gender')"
   ]
  },
  {
   "cell_type": "markdown",
   "id": "0ddd7756",
   "metadata": {
    "papermill": {
     "duration": null,
     "end_time": null,
     "exception": null,
     "start_time": null,
     "status": "pending"
    },
    "tags": []
   },
   "source": [
    "Male users are more, except age group 51 to 80 where female users are more.\n"
   ]
  },
  {
   "cell_type": "markdown",
   "id": "3be08819",
   "metadata": {
    "papermill": {
     "duration": null,
     "end_time": null,
     "exception": null,
     "start_time": null,
     "status": "pending"
    },
    "tags": []
   },
   "source": [
    "**Gender vs Age**\n"
   ]
  },
  {
   "cell_type": "code",
   "execution_count": null,
   "id": "e9cf190f",
   "metadata": {
    "papermill": {
     "duration": null,
     "end_time": null,
     "exception": null,
     "start_time": null,
     "status": "pending"
    },
    "tags": []
   },
   "outputs": [],
   "source": [
    "as_fig = sns.FacetGrid(fb_df,hue='gender',aspect=5)\n",
    "as_fig.map(sns.kdeplot,'age',shade=True)\n",
    "oldest = fb_df['age'].max()\n",
    "as_fig.set(xlim=(0,oldest))\n",
    "as_fig.add_legend()\n",
    "plt.title('Age distribution using FacetGrid')"
   ]
  },
  {
   "cell_type": "markdown",
   "id": "53bb1867",
   "metadata": {
    "papermill": {
     "duration": null,
     "end_time": null,
     "exception": null,
     "start_time": null,
     "status": "pending"
    },
    "tags": []
   },
   "source": [
    "Maximum Facebook Users of Males & Females are of Age 15 - 30 years.\n"
   ]
  },
  {
   "cell_type": "markdown",
   "id": "f4abaf7e",
   "metadata": {
    "papermill": {
     "duration": null,
     "end_time": null,
     "exception": null,
     "start_time": null,
     "status": "pending"
    },
    "tags": []
   },
   "source": [
    "**Age vs Tenure**"
   ]
  },
  {
   "cell_type": "code",
   "execution_count": null,
   "id": "1f5284d2",
   "metadata": {
    "papermill": {
     "duration": null,
     "end_time": null,
     "exception": null,
     "start_time": null,
     "status": "pending"
    },
    "tags": []
   },
   "outputs": [],
   "source": [
    "fig,ax =plt.subplots(figsize=(15,10))\n",
    "sns.set(font_scale=1)\n",
    "sns.boxplot(data=fb_df,x='age_group',y='tenure')"
   ]
  },
  {
   "cell_type": "code",
   "execution_count": null,
   "id": "f8899924",
   "metadata": {
    "papermill": {
     "duration": null,
     "end_time": null,
     "exception": null,
     "start_time": null,
     "status": "pending"
    },
    "tags": []
   },
   "outputs": [],
   "source": [
    "sns.set(font_scale=1.5)\n",
    "sns.set_palette(sns.color_palette(\"Set2\", n_colors=5, desat=.5))\n",
    "sns.catplot(x=\"age_group\", y='tenure',hue ='gender',data=fb_df, kind=\"bar\",height=8, aspect=2)"
   ]
  },
  {
   "cell_type": "code",
   "execution_count": null,
   "id": "166d1388",
   "metadata": {
    "papermill": {
     "duration": null,
     "end_time": null,
     "exception": null,
     "start_time": null,
     "status": "pending"
    },
    "tags": []
   },
   "outputs": [],
   "source": [
    "Max_tenure_in_year = (fb_df['tenure'].max())/365\n",
    "Max_tenure_in_year\n"
   ]
  },
  {
   "cell_type": "markdown",
   "id": "69827421",
   "metadata": {
    "papermill": {
     "duration": null,
     "end_time": null,
     "exception": null,
     "start_time": null,
     "status": "pending"
    },
    "tags": []
   },
   "source": [
    "\n",
    "Facebook launched on 4th of February 2004 since then users are using, maximum tenure as per the dataset is around 9 years, from this we can confirm this dataset is created in 2013.\n",
    "across all age group Female tenure is slightly higher than the Males.\n"
   ]
  },
  {
   "cell_type": "markdown",
   "id": "9f42b6a3",
   "metadata": {
    "papermill": {
     "duration": null,
     "end_time": null,
     "exception": null,
     "start_time": null,
     "status": "pending"
    },
    "tags": []
   },
   "source": [
    "**Comparing Age vs Friend Count**\n"
   ]
  },
  {
   "cell_type": "code",
   "execution_count": null,
   "id": "1e3fff58",
   "metadata": {
    "papermill": {
     "duration": null,
     "end_time": null,
     "exception": null,
     "start_time": null,
     "status": "pending"
    },
    "tags": []
   },
   "outputs": [],
   "source": [
    "sns.set(font_scale=1.5)\n",
    "sns.set_palette(sns.color_palette(\"Set2\", n_colors=5, desat=.5))\n",
    "sns.catplot(x=\"age_group\", y='friend_count',hue ='gender',data=fb_df, kind=\"bar\",height=8, aspect=2)"
   ]
  },
  {
   "cell_type": "markdown",
   "id": "732338b9",
   "metadata": {
    "papermill": {
     "duration": null,
     "end_time": null,
     "exception": null,
     "start_time": null,
     "status": "pending"
    },
    "tags": []
   },
   "source": [
    "People with an age of less than 30 and more than 80 have more friends than the middle aged people.\n",
    "\n",
    "Females with an age of less than 30 have more friends than the Males."
   ]
  },
  {
   "cell_type": "markdown",
   "id": "8c592f70",
   "metadata": {
    "papermill": {
     "duration": null,
     "end_time": null,
     "exception": null,
     "start_time": null,
     "status": "pending"
    },
    "tags": []
   },
   "source": [
    "**How users are using the Facebook through Website and Mobile App**\n",
    "\n"
   ]
  },
  {
   "cell_type": "code",
   "execution_count": null,
   "id": "54ec2bde",
   "metadata": {
    "papermill": {
     "duration": null,
     "end_time": null,
     "exception": null,
     "start_time": null,
     "status": "pending"
    },
    "tags": []
   },
   "outputs": [],
   "source": [
    "Percentage_of_likes = (fb_df.likes.count() - fb_df['likes'].value_counts().max()) / (fb_df.likes.count())*100\n",
    "Percentage_of_www_likes = (fb_df.likes.count() - fb_df['www_likes'].value_counts().max())/(fb_df.likes.count())*100\n",
    "Percentage_of_mobile_likes = (fb_df.likes.count() -  fb_df['mobile_likes'].value_counts().max())/(fb_df.likes.count())*100\n",
    "Percentage_of_likes_received = (fb_df.likes.count() - fb_df['likes_received'].value_counts().max())/(fb_df.likes_received.count())*100\n",
    "Percentage_of_www_likes_received = (fb_df.likes.count() - fb_df['www_likes_received'].value_counts().max())/(fb_df.likes_received.count())*100\n",
    "Percentage_of_mobile_likes_received = (fb_df.likes.count() - fb_df['mobile_likes_received'].value_counts().max())/(fb_df.likes_received.count())*100\n",
    "\n",
    "print('Percentage of Likes = ',Percentage_of_likes)\n",
    "print('Percentage of Mobile Likes = ',Percentage_of_mobile_likes)\n",
    "print('Percentage of Website Likes = ',Percentage_of_www_likes)\n",
    "\n",
    "print('Percentage of Likes Received = ',Percentage_of_likes_received)\n",
    "print('Percentage of Mobile Likes Received = ',Percentage_of_mobile_likes_received)\n",
    "print('Percentage of website Likes Received = ',Percentage_of_www_likes_received)\n"
   ]
  },
  {
   "cell_type": "code",
   "execution_count": null,
   "id": "3c291f6d",
   "metadata": {
    "papermill": {
     "duration": null,
     "end_time": null,
     "exception": null,
     "start_time": null,
     "status": "pending"
    },
    "tags": []
   },
   "outputs": [],
   "source": [
    "Not_mobile_likes = 100- Percentage_of_mobile_likes\n",
    "Not_www_likes = 100 - Percentage_of_www_likes\n",
    "Not_mobile_likes_received = 100- Percentage_of_mobile_likes_received\n",
    "Not_www_likes_received = 100 - Percentage_of_www_likes_received"
   ]
  },
  {
   "cell_type": "code",
   "execution_count": null,
   "id": "04a21f30",
   "metadata": {
    "papermill": {
     "duration": null,
     "end_time": null,
     "exception": null,
     "start_time": null,
     "status": "pending"
    },
    "tags": []
   },
   "outputs": [],
   "source": [
    "labels = 'Yes','No'\n",
    "size1 = [Percentage_of_mobile_likes,Not_mobile_likes]\n",
    "size2 = [Percentage_of_www_likes,Not_www_likes]\n",
    "size3 = [Percentage_of_mobile_likes_received,Not_mobile_likes_received]\n",
    "size4 = [Percentage_of_www_likes_received,Not_www_likes_received]\n",
    "\n",
    "colors = ['gold', 'lightcoral']\n",
    "plt.figure(figsize=(18,10), dpi=1600)\n",
    "\n",
    "ax1 = plt.subplot2grid((2,2),(0,0))\n",
    "plt.pie(size1,labels=labels, colors=colors,autopct='%1.1f%%',startangle=90)\n",
    "plt.title('Users liked the Posts through Mobile App')\n",
    "\n",
    "ax1 = plt.subplot2grid((2,2),(0,1))\n",
    "plt.pie(size2,labels=labels, colors=colors,autopct='%1.1f%%',startangle=90)\n",
    "plt.title('Users liked the Posts through Website')\n",
    "\n",
    "ax1 = plt.subplot2grid((2,2),(1,0))\n",
    "plt.pie(size3,labels=labels, colors=colors,autopct='%1.1f%%',startangle=90)\n",
    "plt.title('Users Received the likes through Mobile App')\n",
    "\n",
    "ax1 = plt.subplot2grid((2,2),(1,1))\n",
    "plt.pie(size4,labels=labels, colors=colors,autopct='%1.1f%%',startangle=90)\n",
    "plt.title('Users Received the likes through Website')\n",
    "\n",
    "plt.axis('equal')\n",
    "plt.show()\n"
   ]
  },
  {
   "cell_type": "markdown",
   "id": "11f0c0c7",
   "metadata": {
    "papermill": {
     "duration": null,
     "end_time": null,
     "exception": null,
     "start_time": null,
     "status": "pending"
    },
    "tags": []
   },
   "source": [
    "65% Users liked the Posts through Mobile App\n",
    "\n",
    "70% Users liked the Posts through Website\n",
    "\n",
    "38% Users Received the likes through Mobile App\n",
    "\n",
    "63% Users Received the likes through Website\n",
    "\n"
   ]
  },
  {
   "cell_type": "markdown",
   "id": "291e9450",
   "metadata": {
    "papermill": {
     "duration": null,
     "end_time": null,
     "exception": null,
     "start_time": null,
     "status": "pending"
    },
    "tags": []
   },
   "source": [
    "**How Friend Count and Friendships Initiated is Correlated**\n"
   ]
  },
  {
   "cell_type": "code",
   "execution_count": null,
   "id": "5d913a1e",
   "metadata": {
    "papermill": {
     "duration": null,
     "end_time": null,
     "exception": null,
     "start_time": null,
     "status": "pending"
    },
    "tags": []
   },
   "outputs": [],
   "source": [
    "figsize=(20,12)\n",
    "sns.scatterplot(x=\"friend_count\", y=\"friendships_initiated\", hue=\"gender\", data = fb_df)"
   ]
  },
  {
   "cell_type": "markdown",
   "id": "11726288",
   "metadata": {
    "papermill": {
     "duration": null,
     "end_time": null,
     "exception": null,
     "start_time": null,
     "status": "pending"
    },
    "tags": []
   },
   "source": [
    "**How Friend Count and Tenure Correlated**\n"
   ]
  },
  {
   "cell_type": "code",
   "execution_count": null,
   "id": "a0f820de",
   "metadata": {
    "papermill": {
     "duration": null,
     "end_time": null,
     "exception": null,
     "start_time": null,
     "status": "pending"
    },
    "tags": []
   },
   "outputs": [],
   "source": [
    "figsize=(20,12)\n",
    "sns.scatterplot(x=\"friend_count\", y=\"tenure\", hue=\"gender\", data = fb_df)"
   ]
  },
  {
   "cell_type": "markdown",
   "id": "65e0ea0f",
   "metadata": {
    "papermill": {
     "duration": null,
     "end_time": null,
     "exception": null,
     "start_time": null,
     "status": "pending"
    },
    "tags": []
   },
   "source": [
    "# 5. Correlation of Features"
   ]
  },
  {
   "cell_type": "code",
   "execution_count": null,
   "id": "0a005035",
   "metadata": {
    "papermill": {
     "duration": null,
     "end_time": null,
     "exception": null,
     "start_time": null,
     "status": "pending"
    },
    "tags": []
   },
   "outputs": [],
   "source": [
    "correlations = fb_df.corr()\n",
    "f, ax = plt.subplots(figsize=(14, 8))\n",
    "sns.heatmap(data=correlations, annot = True, cmap='magma')\n",
    "sns.despine(left=True, bottom=True)"
   ]
  },
  {
   "cell_type": "markdown",
   "id": "b4fda953",
   "metadata": {
    "papermill": {
     "duration": null,
     "end_time": null,
     "exception": null,
     "start_time": null,
     "status": "pending"
    },
    "tags": []
   },
   "source": [
    "Friend Count and Friendships Initiated have strong Correlations, as Friendships Initiated increases, the Friend Count tends to increase."
   ]
  },
  {
   "cell_type": "code",
   "execution_count": null,
   "id": "5b27619b",
   "metadata": {
    "papermill": {
     "duration": null,
     "end_time": null,
     "exception": null,
     "start_time": null,
     "status": "pending"
    },
    "tags": []
   },
   "outputs": [],
   "source": [
    "sns.pairplot(fb_df[['age','gender','tenure','friend_count','friendships_initiated','likes']],\n",
    "             vars= ['age','tenure','friend_count','friendships_initiated','likes'],hue=\"gender\", palette=\"husl\")\n",
    "plt.title('Pair Plot')\n"
   ]
  },
  {
   "cell_type": "markdown",
   "id": "58210102",
   "metadata": {
    "papermill": {
     "duration": null,
     "end_time": null,
     "exception": null,
     "start_time": null,
     "status": "pending"
    },
    "tags": []
   },
   "source": [
    "# 6. Conclusions"
   ]
  },
  {
   "cell_type": "markdown",
   "id": "9cfc7313",
   "metadata": {
    "papermill": {
     "duration": null,
     "end_time": null,
     "exception": null,
     "start_time": null,
     "status": "pending"
    },
    "tags": []
   },
   "source": [
    "\n",
    "Maximum users of Facebook are of Age 15 to 30 years.\n",
    "\n",
    "Maximum Age:113 years and Minimum Age:13 years\n",
    "\n",
    "Maximum users of Facebook are Males, about 59.3%.\n",
    "\n",
    "Even though the male users are more in number but Female users are more active in Facebook.\n",
    "\n",
    "More number of User have joined from Last 2 Years of Data collection\n",
    "\n",
    "More number of users have fewer than 500 Facebook Friends\n",
    "\n",
    "Across all age group male users are more, except age group 51 to 80 where female users are more.\n",
    "\n",
    "People with an age of less than 30 and more than 80 have more friends than the middle aged people.\n",
    "\n",
    "Females with an age of less than 30 have more friends than the Males.\n",
    "\n",
    "Facebook launched on 4th of February 2004 since then users are using, maximum tenure as per the dataset is around 9 years, from this we can confirm this dataset is created in 2013.\n",
    "\n",
    "Across all age group male and female users tenure is almost same\n",
    "\n",
    "65% Users liked the Posts through Mobile App 70% Users liked the Posts through Website 38% Users Received the likes through Mobile App 63% Users Received the likes through Website\n",
    "\n",
    "Upto 60 years of age Female Users were initiated more friends.\n",
    "\n",
    "Above 60 year of age Male Users were initiated more friends."
   ]
  }
 ],
 "metadata": {
  "kernelspec": {
   "display_name": "Python 3",
   "language": "python",
   "name": "python3"
  },
  "language_info": {
   "codemirror_mode": {
    "name": "ipython",
    "version": 3
   },
   "file_extension": ".py",
   "mimetype": "text/x-python",
   "name": "python",
   "nbconvert_exporter": "python",
   "pygments_lexer": "ipython3",
   "version": "3.7.12"
  },
  "papermill": {
   "default_parameters": {},
   "duration": 11.675978,
   "end_time": "2023-04-29T03:28:59.460855",
   "environment_variables": {},
   "exception": true,
   "input_path": "__notebook__.ipynb",
   "output_path": "__notebook__.ipynb",
   "parameters": {},
   "start_time": "2023-04-29T03:28:47.784877",
   "version": "2.4.0"
  }
 },
 "nbformat": 4,
 "nbformat_minor": 5
}
